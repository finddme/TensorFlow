{
  "nbformat": 4,
  "nbformat_minor": 0,
  "metadata": {
    "colab": {
      "name": "[언어학과]NGramLM.ipynb",
      "provenance": [],
      "collapsed_sections": [],
      "include_colab_link": true
    },
    "kernelspec": {
      "name": "python3",
      "display_name": "Python 3"
    }
  },
  "cells": [
    {
      "cell_type": "markdown",
      "metadata": {
        "id": "view-in-github",
        "colab_type": "text"
      },
      "source": [
        "<a href=\"https://colab.research.google.com/github/finddme/TensorFlow/blob/master/%5B%EC%96%B8%EC%96%B4%ED%95%99%EA%B3%BC%5DNGramLM.ipynb\" target=\"_parent\"><img src=\"https://colab.research.google.com/assets/colab-badge.svg\" alt=\"Open In Colab\"/></a>"
      ]
    },
    {
      "cell_type": "markdown",
      "metadata": {
        "id": "LqMFEvSbIOiN",
        "colab_type": "text"
      },
      "source": [
        "# 1. N-Gram Language Modeling"
      ]
    },
    {
      "cell_type": "code",
      "metadata": {
        "id": "881vRV_fohEj",
        "colab_type": "code",
        "colab": {}
      },
      "source": [
        "p(1,2,3,4) = p(1) * p(2|1) * p(3|2) * p(4|3)"
      ],
      "execution_count": 0,
      "outputs": []
    },
    {
      "cell_type": "markdown",
      "metadata": {
        "id": "2iWcKBv7ecNE",
        "colab_type": "text"
      },
      "source": [
        "![대체 텍스트](https://encrypted-tbn0.gstatic.com/images?q=tbn%3AANd9GcS5qXTSCjxwMqspLLkV681v4gJ8XOiadRrx8Q6HE827_JGaYzJS&usqp=CAU)\n"
      ]
    },
    {
      "cell_type": "markdown",
      "metadata": {
        "id": "YJgNd-C0RKSw",
        "colab_type": "text"
      },
      "source": [
        "#### 1.1. English"
      ]
    },
    {
      "cell_type": "markdown",
      "metadata": {
        "id": "3wpuAehNLJv6",
        "colab_type": "text"
      },
      "source": [
        "**import packages**"
      ]
    },
    {
      "cell_type": "code",
      "metadata": {
        "id": "O8Fz6-k1LX3r",
        "colab_type": "code",
        "colab": {}
      },
      "source": [
        "import nltk\n",
        "from nltk.util import ngrams\n",
        "from nltk import ConditionalFreqDist\n",
        "from nltk.probability import ConditionalProbDist, MLEProbDist"
      ],
      "execution_count": 0,
      "outputs": []
    },
    {
      "cell_type": "markdown",
      "metadata": {
        "id": "VTSYLk7kL64U",
        "colab_type": "text"
      },
      "source": [
        "**load dataset**\n"
      ]
    },
    {
      "cell_type": "code",
      "metadata": {
        "id": "o83PEKBeJCUh",
        "colab_type": "code",
        "outputId": "3b06dfec-1313-4923-8445-d18a9208e701",
        "colab": {
          "base_uri": "https://localhost:8080/",
          "height": 105
        }
      },
      "source": [
        "nltk.download('punkt')\n",
        "nltk.download('brown')"
      ],
      "execution_count": 0,
      "outputs": [
        {
          "output_type": "stream",
          "text": [
            "[nltk_data] Downloading package punkt to /root/nltk_data...\n",
            "[nltk_data]   Unzipping tokenizers/punkt.zip.\n",
            "[nltk_data] Downloading package brown to /root/nltk_data...\n",
            "[nltk_data]   Unzipping corpora/brown.zip.\n"
          ],
          "name": "stdout"
        },
        {
          "output_type": "execute_result",
          "data": {
            "text/plain": [
              "True"
            ]
          },
          "metadata": {
            "tags": []
          },
          "execution_count": 3
        }
      ]
    },
    {
      "cell_type": "markdown",
      "metadata": {
        "id": "_zvLAWsLPKBX",
        "colab_type": "text"
      },
      "source": [
        "**n-gram**"
      ]
    },
    {
      "cell_type": "code",
      "metadata": {
        "id": "QUzxsfgiPOnb",
        "colab_type": "code",
        "outputId": "3999b328-590d-4edd-e1ac-1e832ebe37b2",
        "colab": {
          "base_uri": "https://localhost:8080/",
          "height": 54
        }
      },
      "source": [
        "bigrams = []\n",
        "for tokens in nltk.corpus.brown.sents():\n",
        "  bigrams += ngrams(tokens, 2)\n",
        "print(bigrams[:10])"
      ],
      "execution_count": 0,
      "outputs": [
        {
          "output_type": "stream",
          "text": [
            "[('The', 'Fulton'), ('Fulton', 'County'), ('County', 'Grand'), ('Grand', 'Jury'), ('Jury', 'said'), ('said', 'Friday'), ('Friday', 'an'), ('an', 'investigation'), ('investigation', 'of'), ('of', \"Atlanta's\")]\n"
          ],
          "name": "stdout"
        }
      ]
    },
    {
      "cell_type": "code",
      "metadata": {
        "colab_type": "code",
        "id": "zM0igwXLNnIf",
        "outputId": "93e57f38-3d9a-4d20-b203-cb5cbb6e4635",
        "colab": {
          "base_uri": "https://localhost:8080/",
          "height": 34
        }
      },
      "source": [
        "cfd = ConditionalFreqDist(bigrams)\n",
        "cfd['the'].most_common(5)\n",
        "# -> sentence generation"
      ],
      "execution_count": 0,
      "outputs": [
        {
          "output_type": "execute_result",
          "data": {
            "text/plain": [
              "[('same', 597), ('first', 539), ('other', 384), ('most', 376), ('United', 374)]"
            ]
          },
          "metadata": {
            "tags": []
          },
          "execution_count": 7
        }
      ]
    },
    {
      "cell_type": "code",
      "metadata": {
        "id": "uLr0bjjJNne7",
        "colab_type": "code",
        "outputId": "a6dfe8e0-15fc-4025-a80a-ca294490d17e",
        "colab": {
          "base_uri": "https://localhost:8080/",
          "height": 34
        }
      },
      "source": [
        "cpd = ConditionalProbDist(cfd, MLEProbDist)\n",
        "cpd['the'].prob('most')\n",
        "# -> sentence probability"
      ],
      "execution_count": 0,
      "outputs": [
        {
          "output_type": "execute_result",
          "data": {
            "text/plain": [
              "0.005996332030938522"
            ]
          },
          "metadata": {
            "tags": []
          },
          "execution_count": 8
        }
      ]
    },
    {
      "cell_type": "markdown",
      "metadata": {
        "id": "jDCt4YXII5dG",
        "colab_type": "text"
      },
      "source": [
        "#### 1.2. Korean"
      ]
    },
    {
      "cell_type": "markdown",
      "metadata": {
        "colab_type": "text",
        "id": "8AJFC6-HRTm0"
      },
      "source": [
        "**import packages**"
      ]
    },
    {
      "cell_type": "code",
      "metadata": {
        "colab_type": "code",
        "id": "PzWSCdZrSJBL",
        "colab": {}
      },
      "source": [
        "!pip install konlpy\n",
        "import konlpy\n",
        "from konlpy.tag import Kkma"
      ],
      "execution_count": 0,
      "outputs": []
    },
    {
      "cell_type": "markdown",
      "metadata": {
        "id": "Aswm4A4LSVUS",
        "colab_type": "text"
      },
      "source": [
        "**load dataset**"
      ]
    },
    {
      "cell_type": "code",
      "metadata": {
        "id": "n94XjcXxSJlD",
        "colab_type": "code",
        "colab": {}
      },
      "source": [
        "with konlpy.corpus.kolaw.open('constitution.txt') as f:\n",
        "  corpus = f.read()"
      ],
      "execution_count": 0,
      "outputs": []
    },
    {
      "cell_type": "markdown",
      "metadata": {
        "id": "hP79yjBAWwzD",
        "colab_type": "text"
      },
      "source": [
        "**tokenization**"
      ]
    },
    {
      "cell_type": "code",
      "metadata": {
        "id": "cvEfBVuaUQSv",
        "colab_type": "code",
        "outputId": "ba1aa304-8236-40c0-f3b5-cb3cd4ac03e5",
        "colab": {
          "base_uri": "https://localhost:8080/",
          "height": 34
        }
      },
      "source": [
        "kkma = Kkma()\n",
        "tokens = kkma.morphs(corpus)\n",
        "print(tokens[:10])"
      ],
      "execution_count": 0,
      "outputs": [
        {
          "output_type": "stream",
          "text": [
            "['대한민국', '헌법', '유구', '하', 'ㄴ', '역사', '와', '전통', '에', '빛나']\n"
          ],
          "name": "stdout"
        }
      ]
    },
    {
      "cell_type": "markdown",
      "metadata": {
        "id": "Mkh_tdbHTyvj",
        "colab_type": "text"
      },
      "source": [
        "**n-gram**"
      ]
    },
    {
      "cell_type": "code",
      "metadata": {
        "colab_type": "code",
        "outputId": "d477e1af-191a-4b37-eea6-4167b673a813",
        "id": "KR7aeANHZaVZ",
        "colab": {
          "base_uri": "https://localhost:8080/",
          "height": 34
        }
      },
      "source": [
        "bigrams = ngrams(tokens, 2)\n",
        "cfd = ConditionalFreqDist(bigrams)\n",
        "cfd['대한민국'].most_common(5)"
      ],
      "execution_count": 0,
      "outputs": [
        {
          "output_type": "execute_result",
          "data": {
            "text/plain": [
              "[('의', 5), ('은', 3), ('헌법', 1), ('임시', 1), ('영역', 1)]"
            ]
          },
          "metadata": {
            "tags": []
          },
          "execution_count": 13
        }
      ]
    },
    {
      "cell_type": "code",
      "metadata": {
        "id": "VM3L-EThZa2f",
        "colab_type": "code",
        "outputId": "8902fdeb-480d-47d2-95bd-d54fd9cb79d5",
        "colab": {
          "base_uri": "https://localhost:8080/",
          "height": 34
        }
      },
      "source": [
        "cpd = ConditionalProbDist(cfd, MLEProbDist)\n",
        "cpd['대한민국'].prob('의')"
      ],
      "execution_count": 0,
      "outputs": [
        {
          "output_type": "execute_result",
          "data": {
            "text/plain": [
              "0.45454545454545453"
            ]
          },
          "metadata": {
            "tags": []
          },
          "execution_count": 14
        }
      ]
    }
  ]
}